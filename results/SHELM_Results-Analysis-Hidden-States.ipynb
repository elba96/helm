{
 "cells": [
  {
   "cell_type": "code",
   "execution_count": null,
   "id": "76405af2-63db-431b-97b4-7bf1fb9d2ed4",
   "metadata": {
    "is_executing": true,
    "tags": []
   },
   "outputs": [],
   "source": [
    "import glob\n",
    "import os\n",
    "import pickle\n",
    "import random\n",
    "import warnings\n",
    "from typing import List, Dict, Tuple, Callable\n",
    "\n",
    "import numpy as np\n",
    "import plotly.graph_objects as go\n",
    "import torch\n",
    "from numpy.linalg import norm\n",
    "from plotly.subplots import make_subplots\n",
    "from sklearn.decomposition import PCA\n",
    "from sklearn.manifold import TSNE\n",
    "\n",
    "warnings.filterwarnings('ignore')\n",
    "\n",
    "layer_of_interest = [1, 2, 3, 5, 10, 15, 18]\n",
    "\n",
    "COLORS = {\n",
    "    1: (255, 127, 14), # orange\n",
    "    3: (44, 160, 44), # green\n",
    "    18: (214, 39, 40), # red #D62728\n",
    "    2: (148, 103, 189), # purple #9467BD\n",
    "    5: (31, 119, 180), # blue #1F77B4\n",
    "    10: (188, 189, 34), # lime green #BCBD22\n",
    "    15: (23, 190, 207), # light blue #17BECF\n",
    "    4: (140, 86, 75), # brown #8C564B\n",
    "    6: (227, 119, 194), # pink #E377C2\n",
    "    7: (127, 127, 127), # grey #7F7F7F\n",
    "}\n",
    "\n",
    "COLORS_DARKER = {\n",
    "    1: (229, 118, 20), # orange\n",
    "    3: (31, 138, 44), # green\n",
    "    18: (176, 32, 32), # red #D62728\n",
    "    2: (148, 103, 189), # purple #9467BD\n",
    "    5: (31, 119, 180), # blue #1F77B4\n",
    "    10: (188, 189, 34), # lime green #BCBD22\n",
    "    15: (23, 190, 207), # light blue #17BECF\n",
    "    4: (140, 86, 75), # brown #8C564B\n",
    "    6: (227, 119, 194), # pink #E377C2\n",
    "    7: (127, 127, 127), # grey #7F7F7F\n",
    "}\n",
    "\n",
    "RAINBOW_COLORS = [\n",
    "    \"rgb(244, 67, 54)\",\n",
    "    \"rgb(232, 30, 99)\",\n",
    "    \"rgb(192, 35, 120)\",\n",
    "    \"rgb(169, 37, 150)\",\n",
    "    \"rgb(156, 39, 176)\",\n",
    "    \"rgb(103, 58, 183)\",\n",
    "    \"rgb(63, 81, 181)\",\n",
    "    \"rgb(33, 150, 243)\",\n",
    "    \"rgb(3, 169, 244)\",\n",
    "    \"rgb(0, 188, 212)\",\n",
    "    \"rgb(0, 150, 136)\",\n",
    "    \"rgb(76, 175, 80)\",\n",
    "    \"rgb(139, 195, 74)\",\n",
    "    \"rgb(205, 220, 57)\",\n",
    "    \"rgb(255, 235, 59)\",\n",
    "    \"rgb(255, 193, 7)\",\n",
    "    \"rgb(255, 152, 0)\",\n",
    "    \"rgb(255, 87, 34)\"\n",
    "]\n",
    "\n",
    "FONT_SIZE_TITLE = 24\n",
    "FONT_SIZE_AXIS = 22\n",
    "FONT_SIZE_TICKS = 20\n",
    "FONT_SIZE_LEGEND = 20"
   ]
  },
  {
   "cell_type": "markdown",
   "id": "2c421107-bc81-42f1-a09d-c1df6a512d07",
   "metadata": {},
   "source": [
    "# Analyze Causes\n",
    "Why are the results as they are? In this section we try to answer some question by analyzing the hidden states and attention patterns of the TrXL in different layers. To this end, a trained SHELM model was used to sample several example episodes of the Memory and Psychlab environments. During sampling the hidden states, attention distributions and rewards were saved and later visualized/ analyzed."
   ]
  },
  {
   "cell_type": "code",
   "execution_count": null,
   "id": "5bb6d8e5-7aa1-4b1f-b96e-f8dc88e7db8e",
   "metadata": {},
   "outputs": [],
   "source": [
    "np.random.seed(101)\n",
    "torch.cuda.manual_seed(101)\n",
    "random.seed(101)\n",
    "\n",
    "observations_path = os.path.join(\"data\", \"observations\")\n",
    "\n",
    "if os.path.exists(observations_path):\n",
    "    \n",
    "    observations_psych = sorted(\n",
    "    glob.glob(os.path.join(observations_path, \"Continuous-Recognition\", \"ep1\", \"*.png\")),\n",
    "        key=lambda x: int(x.split('step-')[-1].split('-')[0])\n",
    "    )\n",
    "    observations_mem = sorted(\n",
    "        glob.glob(os.path.join(observations_path, \"Memory\", \"ep1\", \"*.png\")),\n",
    "        key=lambda x: int(x.split('step-')[-1].split('-')[0])\n",
    "    )\n",
    "    observations_psych2 = sorted(\n",
    "        glob.glob(os.path.join(observations_path, \"Continuous-Recognition\", \"ep2\", \"*.png\")),\n",
    "        key=lambda x: int(x.split('step-')[-1].split('-')[0])\n",
    "    )\n",
    "    observations_mem2 = sorted(\n",
    "        glob.glob(os.path.join(observations_path, \"Memory\", \"ep2\", \"*.png\")),\n",
    "        key=lambda x: int(x.split('step-')[-1].split('-')[0])\n",
    "    )\n",
    "    observations_psych3 = sorted(\n",
    "        glob.glob(os.path.join(observations_path, \"Continuous-Recognition\", \"ep3\", \"*.png\")),\n",
    "        key=lambda x: int(x.split('step-')[-1].split('-')[0])\n",
    "    )\n",
    "    observations_mem3 = sorted(\n",
    "        glob.glob(os.path.join(observations_path, \"Memory\", \"ep3\", \"*.png\")),\n",
    "        key=lambda x: int(x.split('step-')[-1].split('-')[0])\n",
    "    )\n",
    "else:\n",
    "    raise FileNotFoundError(f\"Ensure the observations are downloaded with the script in `data/download_results.sh`\")"
   ]
  },
  {
   "cell_type": "code",
   "execution_count": null,
   "id": "f2afe71a-5ecd-4071-bb22-9066a5b3b921",
   "metadata": {},
   "outputs": [],
   "source": [
    "def cosine_similarity(a, b):\n",
    "    return np.dot(a,b) / (norm(a) * norm(b))\n",
    "\n",
    "def load_model_output(env_v):\n",
    "    \"\"\"\n",
    "    Load the model output data from a pickle file.\n",
    "\n",
    "    Args:\n",
    "        env_v (str): The environment version.\n",
    "\n",
    "    Returns:\n",
    "        Tuple[Dict[int, List[float]], Dict[int, List[float]], List[np.ndarray], Dict[int, List[float]], List[str]]:\n",
    "            A tuple containing the following data:\n",
    "            - cosine_distances (Dict[int, List[float]]): The cosine distances for all evaluated layers.\n",
    "            - l2_distances (Dict[int, List[float]]): The L2 distances for all evaluated layers.\n",
    "            - hidden_states (List[np.ndarray]): The hidden states for each timestep.\n",
    "            - attentions (Dict[int, List[float]]): The attention weights for all evaluated layers.\n",
    "            - tokens (List[str]): The tokens for the sampled episode.\n",
    "\n",
    "    Raises:\n",
    "        FileNotFoundError: If the data file does not exist.\n",
    "\n",
    "    Note:\n",
    "        Ensure the data is downloaded with the script in `data/download_results.sh`.\n",
    "    \"\"\"\n",
    "    data_path = os.path.join(\"data\", \"investigation-data\", f\"investigation-data-{env_v}.pkl\")\n",
    "    if os.path.exists(data_path):\n",
    "        with open(data_path, \"rb\") as f:\n",
    "            data = pickle.load(f)\n",
    "            cosine_distances = data[\"cosine_distances\"]\n",
    "            l2_distances = data[\"l2_distances\"]\n",
    "            hidden_states = data[\"hidden_states\"]\n",
    "            attentions = data[\"attention\"]\n",
    "            tokens = data[\"tokens\"]\n",
    "    else:\n",
    "        raise FileNotFoundError(f\"Ensure the data is downloaded with the script in `data/download_results.sh`\")\n",
    "\n",
    "    return cosine_distances, l2_distances, hidden_states, attentions, tokens"
   ]
  },
  {
   "cell_type": "code",
   "execution_count": null,
   "id": "6c9e412e-b16b-447b-8b31-c42401e179c0",
   "metadata": {},
   "outputs": [],
   "source": [
    "cosine_distances_mem, l2_distances_mem, hidden_states_mem, attention_mem, tokens_mem = \\\n",
    "load_model_output(\"mem\")"
   ]
  },
  {
   "cell_type": "code",
   "execution_count": null,
   "id": "f4652497-5304-4b1f-9cd7-65ad881af969",
   "metadata": {},
   "outputs": [],
   "source": [
    "cosine_distances_mem2, l2_distances_mem2, hidden_states_mem2, attention_mem2, tokens_mem2 = \\\n",
    "load_model_output(\"mem2\")"
   ]
  },
  {
   "cell_type": "code",
   "execution_count": null,
   "id": "3868ca3a-d30c-4065-95c9-7723b1950fd9",
   "metadata": {},
   "outputs": [],
   "source": [
    "cosine_distances_mem3, l2_distances_mem3, hidden_states_mem3, attention_mem3, tokens_mem3 = \\\n",
    "load_model_output(\"mem3\")"
   ]
  },
  {
   "cell_type": "code",
   "execution_count": null,
   "id": "7f084e09-9288-49d4-aeb5-1a69ff473efb",
   "metadata": {},
   "outputs": [],
   "source": [
    "cosine_distances_psy, l2_distances_psy, hidden_states_psy, attention_psy, tokens_psy = \\\n",
    "load_model_output(\"psy\")"
   ]
  },
  {
   "cell_type": "code",
   "execution_count": null,
   "id": "ee511616-9058-40ee-9f0c-53aca9822782",
   "metadata": {},
   "outputs": [],
   "source": [
    "cosine_distances_psy2, l2_distances_psy2, hidden_states_psy2, attention_psy2, tokens_psy2 = \\\n",
    "load_model_output(\"psy2\")"
   ]
  },
  {
   "cell_type": "code",
   "execution_count": null,
   "id": "65d5e2b4-1585-4e5f-a1ba-cf5faa87617b",
   "metadata": {},
   "outputs": [],
   "source": [
    "cosine_distances_psy3, l2_distances_psy3, hidden_states_psy3, attention_psy3, tokens_psy3 = \\\n",
    "load_model_output(\"psy3\")"
   ]
  },
  {
   "cell_type": "markdown",
   "id": "1fc1d175-6966-4cd4-b6c0-c3f1b402ac2b",
   "metadata": {},
   "source": [
    "## Hidden States"
   ]
  },
  {
   "cell_type": "markdown",
   "id": "14d32ed4-bd9e-4615-b7c4-8988b6a57d38",
   "metadata": {},
   "source": [
    "### Raw Hidden States\n",
    "The raw hidden states can be checked visually by plotting them as heatmap. Because there are hidden layers for all layers at every timestep the visualizations can be grouped in two ways:\n",
    "- by timestep - then the hidden states of all timesteps are shown next to each other\n",
    "- by layer - then the hidden states over all timesteps of one layer are shown next to each other\n",
    "\n",
    "Furthermore we include a Histogram that shows the distribution of the values in the hidden states for each layer at every timestep."
   ]
  },
  {
   "cell_type": "code",
   "execution_count": null,
   "id": "2b28b9cf-7696-4b69-93ab-79df7e1a8a48",
   "metadata": {},
   "outputs": [],
   "source": [
    "def plot_hidden_states_slider(\n",
    "        hidden_states: List[np.ndarray], \n",
    "        group_by: str = \"layer\"\n",
    ") -> go.Figure:\n",
    "    \"\"\"\n",
    "    Plot hidden states grouped either by 'layer' or 'timestep'.\n",
    "\n",
    "    Parameters:\n",
    "    - hidden_states (List[np.ndarray]): A list of numpy arrays representing the hidden states.\n",
    "    - group_by (str, optional): The grouping method for the hidden states. Defaults to \"layer\".\n",
    "    \n",
    "    Returns:\n",
    "    - go.Figure: A Plotly figure object displaying the hidden states with a slider.\n",
    "    \"\"\"\n",
    "    if group_by == \"layer\":\n",
    "        titles = [f\"Hidden States of Layer {i}\" for i in range(1,19)]\n",
    "        num_cols = 18\n",
    "        x_title = \"Timesteps\"\n",
    "        x = [i for i in range(1, len(hidden_states)+1)]\n",
    "        tickvals = [1,  5,  8, 12]\n",
    "        \n",
    "    elif group_by == \"timestep\":\n",
    "        titles = [f\"Hidden States at Timestep {i}\" for i in range(1,len(hidden_states)+1)]\n",
    "        num_cols = len(hidden_states)\n",
    "        x_title = \"Layers\"\n",
    "        x = [i for i in range(1, 19)]\n",
    "        tickvals = [1,  6,  12, 18]\n",
    "\n",
    "    fig = go.Figure()\n",
    "    \n",
    "    data = np.array(hidden_states)\n",
    "    for step in range(num_cols):\n",
    "        fig.add_trace(\n",
    "            go.Heatmap(\n",
    "                visible=False,\n",
    "                z=data[:,step,:].T if group_by == \"layer\" else data[step,:,:].T,\n",
    "                zmin=-2,\n",
    "                zmax=2,\n",
    "                x=x,\n",
    "                xgap=1,\n",
    "                colorscale='Inferno',\n",
    "                colorbar_tickfont_size=FONT_SIZE_LEGEND\n",
    "            )\n",
    "        )\n",
    "    \n",
    "    # Make 0th trace visible\n",
    "    fig.data[0].visible = True\n",
    "    \n",
    "    # Create and add slider\n",
    "    steps = []\n",
    "    for i in range(num_cols):\n",
    "        step = dict(\n",
    "            method=\"update\",\n",
    "            label=f\"{group_by.capitalize()} {i+1}\",\n",
    "            args=[{\"visible\": [False] * len(fig.data)},\n",
    "                  {\"title\": titles[i]}],\n",
    "        )\n",
    "\n",
    "        step[\"args\"][0][\"visible\"][i] = True\n",
    "        steps.append(step)\n",
    "    \n",
    "    sliders = [dict(\n",
    "        active=0,\n",
    "        pad={\"t\": 50},\n",
    "        steps=steps\n",
    "    )]\n",
    "    \n",
    "    fig.update_layout(\n",
    "        sliders=sliders,\n",
    "        title=dict(\n",
    "            font_size=FONT_SIZE_TITLE,\n",
    "            xanchor=\"center\",\n",
    "            x=0.5,\n",
    "            yanchor=\"top\",\n",
    "            y=0.989,\n",
    "        ),\n",
    "        xaxis=dict(\n",
    "            title=x_title,\n",
    "            tickfont_size=FONT_SIZE_TICKS,\n",
    "            title_font_size=FONT_SIZE_AXIS,\n",
    "        ),\n",
    "        yaxis=dict(\n",
    "            tickfont_size=FONT_SIZE_TICKS,\n",
    "            title_font_size=FONT_SIZE_AXIS,\n",
    "        ),\n",
    "        height=700,\n",
    "        width=900,\n",
    "        margin=dict(\n",
    "            l=10,\n",
    "            r=20,\n",
    "            b=20,\n",
    "            t=40,\n",
    "            pad=10\n",
    "        ),\n",
    "    )\n",
    "\n",
    "    return fig"
   ]
  },
  {
   "cell_type": "code",
   "execution_count": null,
   "id": "95b7db13-3c55-4eaa-9305-c6d6b0f914b9",
   "metadata": {},
   "outputs": [],
   "source": [
    "def plot_hidden_states_distribution(\n",
    "        hidden_states: List[np.ndarray], \n",
    "        title: str\n",
    ") -> go.Figure:\n",
    "    \"\"\"\n",
    "    Plot the distribution of hidden states over time using a slider.\n",
    "\n",
    "    Parameters:\n",
    "    - hidden_states (List[np.ndarray]): A list of numpy arrays representing the hidden states.\n",
    "    - title (str): The title of the plot.\n",
    "    \n",
    "    Returns:\n",
    "    - go.Figure: A Plotly figure object displaying the distribution of hidden states over time with a slider.\n",
    "    \"\"\"\n",
    "    fig = go.Figure()\n",
    "    \n",
    "    \n",
    "    for step in range(len(hidden_states)):\n",
    "        for n in layer_of_interest:\n",
    "            fig.add_trace(\n",
    "                go.Histogram(\n",
    "                    visible=False,\n",
    "                    x=hidden_states[step][n-1],\n",
    "                    name=f\"Layer {n}\",\n",
    "                    marker_color=f\"rgb{COLORS[n]}\"\n",
    "                )\n",
    "            )\n",
    "    \n",
    "    # Make 0th trace visible\n",
    "    for i in range(len(layer_of_interest)):\n",
    "        fig.data[i].visible = True\n",
    "    \n",
    "    # Create and add slider\n",
    "    steps = []\n",
    "    for i in range(len(hidden_states)):\n",
    "        step = dict(\n",
    "            method=\"update\",\n",
    "            label=f\"Timestep {i+1}\",\n",
    "            args=[{\"visible\": [False] * len(fig.data)},\n",
    "                  {\"legend_traceorder\": \"normal\"}],  # layout attribute\n",
    "        )\n",
    "        # Calculate the start index for the visible traces in this step\n",
    "        start_index = i * len(layer_of_interest)\n",
    "        end_index = start_index + len(layer_of_interest)\n",
    "        \n",
    "        for j in range(start_index, end_index):\n",
    "            step[\"args\"][0][\"visible\"][j] = True  # Toggle i'th trace to \"visible\"\n",
    "        steps.append(step)\n",
    "    \n",
    "    sliders = [dict(\n",
    "        active=0,\n",
    "        pad={\"t\": 50},\n",
    "        steps=steps\n",
    "    )]\n",
    "    \n",
    "    fig.update_layout(\n",
    "        sliders=sliders,\n",
    "        title=dict(\n",
    "            text=title,\n",
    "            font_size=FONT_SIZE_TITLE,\n",
    "            xanchor=\"center\",\n",
    "            x=0.5,\n",
    "            yanchor=\"top\",\n",
    "            y=0.989,\n",
    "        ),\n",
    "        xaxis=dict(\n",
    "            range=[-2.,2.],\n",
    "            tickfont_size=FONT_SIZE_TICKS,\n",
    "            title_font_size=FONT_SIZE_AXIS,\n",
    "        ),\n",
    "        yaxis=dict(\n",
    "            tickfont_size=FONT_SIZE_TICKS,\n",
    "            title_font_size=FONT_SIZE_AXIS,\n",
    "        ),\n",
    "        legend=dict(\n",
    "            orientation=\"h\",\n",
    "            yanchor=\"bottom\",\n",
    "            y=-0.15,\n",
    "            xanchor=\"center\",\n",
    "            x=0.5,\n",
    "            bgcolor=\"rgba(0,0,0,0)\",\n",
    "            traceorder=\"normal\"\n",
    "        ),\n",
    "        barmode='overlay',\n",
    "        height=700,\n",
    "        width=900,\n",
    "        margin=dict(\n",
    "            l=10,\n",
    "            r=20,\n",
    "            b=20,\n",
    "            t=40,\n",
    "            pad=10\n",
    "        ),\n",
    "    )\n",
    "\n",
    "    fig.update_traces(opacity=0.55)\n",
    "    \n",
    "    return fig"
   ]
  },
  {
   "cell_type": "code",
   "execution_count": null,
   "id": "1328353d-7a00-47c7-ba23-4a65f55ff046",
   "metadata": {},
   "outputs": [],
   "source": [
    "def plot_hidden_states_heatmap_box_combined(\n",
    "        hidden_states: List[np.ndarray],\n",
    "        title: str\n",
    ") -> go.Figure:\n",
    "    \"\"\"\n",
    "    Plot a heatmap and box plot combined for each hidden state in a sequence.\n",
    "\n",
    "    Args:\n",
    "        hidden_states (List[np.ndarray]): A list of 3D numpy arrays representing the hidden states.\n",
    "        title (str): The title of the plot.\n",
    "\n",
    "    Returns:\n",
    "        go.Figure: A plotly figure object containing the heatmap and box plot. \n",
    "    \"\"\"\n",
    "    x = [i for i in range(1, len(hidden_states)+1)]\n",
    "\n",
    "    fig = make_subplots(\n",
    "        rows=2, cols=1, shared_yaxes=False, shared_xaxes=True,\n",
    "        vertical_spacing=0.05\n",
    "    )\n",
    "\n",
    "    data = np.array(hidden_states)\n",
    "\n",
    "    n_steps, n_layers, _ = data.shape\n",
    "\n",
    "    for step in range(n_steps):\n",
    "        fig.add_trace(\n",
    "            go.Heatmap(\n",
    "                z=data[step,:,:].T,\n",
    "                zmin=-2,\n",
    "                zmax=2,\n",
    "                x=x,\n",
    "                xgap=5,\n",
    "                visible=False,\n",
    "                colorscale='Inferno',\n",
    "                colorbar=dict(\n",
    "                    len=0.5,\n",
    "                    y=0.77,\n",
    "                    tickfont_size=FONT_SIZE_LEGEND\n",
    "                )\n",
    "            ),\n",
    "            col=1,\n",
    "            row=1\n",
    "        )\n",
    "            \n",
    "        for idx, hidden in enumerate(hidden_states[step]):\n",
    "            fig.add_trace(\n",
    "                go.Box(\n",
    "                    name=f\"Layer {idx+1}\",\n",
    "                    y=hidden,\n",
    "                    marker_color=RAINBOW_COLORS[idx],\n",
    "                    visible=False,\n",
    "                ),\n",
    "                col=1,\n",
    "                row=2\n",
    "            )\n",
    "\n",
    "\n",
    "    # Make 0th trace visible\n",
    "    for i in range(n_layers+1):\n",
    "        fig.data[i].visible = True\n",
    "    \n",
    "    # Create and add slider\n",
    "    steps = []\n",
    "    for i in range(n_steps):\n",
    "        step = dict(\n",
    "            method=\"update\",\n",
    "            label=f\"Timestep {i+1}\",\n",
    "            args=[{\"visible\": [False] * len(fig.data)},\n",
    "                  {\"legend_traceorder\": \"normal\"}],  # layout attribute\n",
    "        )\n",
    "        # Calculate the start index for the visible traces in this step\n",
    "        start_index = i * (n_layers + 1)\n",
    "        end_index = start_index + (n_layers + 1)\n",
    "        \n",
    "        for j in range(start_index, end_index):\n",
    "            step[\"args\"][0][\"visible\"][j] = True  # Toggle i'th trace to \"visible\"\n",
    "        steps.append(step)\n",
    "    \n",
    "    sliders = [dict(\n",
    "        active=0,\n",
    "        pad={\"t\": 50},\n",
    "        steps=steps\n",
    "    )]\n",
    "\n",
    "    fig.update_layout(\n",
    "        sliders=sliders,\n",
    "        title=dict(\n",
    "            text=title,\n",
    "            font_size=FONT_SIZE_TITLE,\n",
    "            xanchor=\"center\",\n",
    "            x=0.5,\n",
    "            yanchor=\"top\",\n",
    "            y=0.989,\n",
    "        ),\n",
    "        xaxis2=dict(\n",
    "            \n",
    "            tickfont_size=FONT_SIZE_TICKS,\n",
    "            title_font_size=FONT_SIZE_AXIS,\n",
    "        ),\n",
    "        yaxis=dict(\n",
    "            visible=False,\n",
    "            tickfont_size=FONT_SIZE_TICKS,\n",
    "            title_font_size=FONT_SIZE_AXIS,\n",
    "        ),\n",
    "        yaxis2=dict(\n",
    "            range=[-2.2,2.2],\n",
    "            tickfont_size=FONT_SIZE_TICKS,\n",
    "            title_font_size=FONT_SIZE_AXIS,\n",
    "        ),\n",
    "        showlegend=False,\n",
    "        barmode='overlay',\n",
    "        height=800,\n",
    "        width=1100,\n",
    "        margin=dict(\n",
    "            l=10,\n",
    "            r=20,\n",
    "            b=20,\n",
    "            t=40,\n",
    "            pad=10\n",
    "        ),\n",
    "    )\n",
    "\n",
    "    return fig"
   ]
  },
  {
   "cell_type": "code",
   "execution_count": null,
   "id": "ae0e4b6e-8f91-409d-be8b-75835de5db30",
   "metadata": {},
   "outputs": [],
   "source": [
    "def plot_hidden_state_box(\n",
    "        hidden_states: List[np.ndarray],\n",
    "        title: str\n",
    ") -> go.Figure:\n",
    "    \"\"\"\n",
    "    Plot a box plot for each hidden state in a sequence to show the distribution of values in the hidden state.\n",
    "\n",
    "    Args:\n",
    "        hidden_states (List[np.ndarray]): A list of 2D numpy arrays representing the hidden states.\n",
    "        title (str): The title of the plot.\n",
    "\n",
    "    Returns:\n",
    "        go.Figure: A plotly figure object containing the box plot. \n",
    "    \"\"\"\n",
    "    fig = go.Figure()\n",
    "    \n",
    "    \n",
    "    for step in range(len(hidden_states)):\n",
    "        for idx, hidden in enumerate(hidden_states[step]):\n",
    "            fig.add_trace(\n",
    "                go.Box(\n",
    "                    name=f\"Layer {idx+1}\",\n",
    "                    y=hidden,\n",
    "                    marker_color=RAINBOW_COLORS[idx],\n",
    "                    visible=False\n",
    "                )\n",
    "            )\n",
    "\n",
    "    # Make 0th trace visible\n",
    "    for i in range(len(hidden_states[0])):\n",
    "        fig.data[i].visible = True\n",
    "    \n",
    "    # Create and add slider\n",
    "    steps = []\n",
    "    for i in range(len(hidden_states)):\n",
    "        step = dict(\n",
    "            method=\"update\",\n",
    "            label=f\"Timestep {i+1}\",\n",
    "            args=[{\"visible\": [False] * len(fig.data)},\n",
    "                  {\"legend_traceorder\": \"normal\"}],  # layout attribute\n",
    "        )\n",
    "        # Calculate the start index for the visible traces in this step\n",
    "        start_index = i * len(hidden_states[0])\n",
    "        end_index = start_index + len(hidden_states[0])\n",
    "        \n",
    "        for j in range(start_index, end_index):\n",
    "            step[\"args\"][0][\"visible\"][j] = True  # Toggle i'th trace to \"visible\"\n",
    "        steps.append(step)\n",
    "    \n",
    "    sliders = [dict(\n",
    "        active=0,\n",
    "        pad={\"t\": 70},\n",
    "        steps=steps\n",
    "    )]\n",
    "    \n",
    "    fig.update_layout(\n",
    "        sliders=sliders,\n",
    "        title=dict(\n",
    "            text=title,\n",
    "            font_size=FONT_SIZE_TITLE,\n",
    "            xanchor=\"center\",\n",
    "            x=0.5,\n",
    "            yanchor=\"top\",\n",
    "            y=0.989,\n",
    "        ),\n",
    "        xaxis=dict(\n",
    "            tickfont_size=FONT_SIZE_TICKS,\n",
    "            title_font_size=FONT_SIZE_AXIS,\n",
    "        ),\n",
    "        yaxis=dict(\n",
    "            range=[-2.2,2.2],\n",
    "            tickfont_size=FONT_SIZE_TICKS,\n",
    "            title_font_size=FONT_SIZE_AXIS,\n",
    "        ),\n",
    "        showlegend=False,\n",
    "        barmode='overlay',\n",
    "        height=700,\n",
    "        width=1100,\n",
    "        margin=dict(\n",
    "            l=10,\n",
    "            r=20,\n",
    "            b=50,\n",
    "            t=40,\n",
    "            pad=10\n",
    "        ),\n",
    "    )\n",
    "    \n",
    "    return fig"
   ]
  },
  {
   "cell_type": "markdown",
   "id": "d2ee4d2e-8cf1-4e42-8ff9-c3ea3e60718a",
   "metadata": {},
   "source": [
    "#### Memory Environment\n",
    "##### Episode 1\n"
   ]
  },
  {
   "cell_type": "code",
   "execution_count": null,
   "id": "39217986-7129-4093-87ba-23b510dd0d47",
   "metadata": {},
   "outputs": [],
   "source": [
    "plot_hidden_states_slider(hidden_states_mem, \"timestep\").show()"
   ]
  },
  {
   "cell_type": "markdown",
   "id": "d28b75ac-640d-4c51-bc63-f3128dae02ab",
   "metadata": {},
   "source": [
    "###### Grouped by Layer"
   ]
  },
  {
   "cell_type": "code",
   "execution_count": null,
   "id": "aa277b01-24a8-42ec-a494-6483e676c3a6",
   "metadata": {},
   "outputs": [],
   "source": [
    "plot_hidden_states_slider(hidden_states_mem, \"layer\").show()"
   ]
  },
  {
   "cell_type": "markdown",
   "id": "1bbb9e3e-2202-4891-b1d4-1e5d211f2652",
   "metadata": {},
   "source": [
    "###### Value Distribution"
   ]
  },
  {
   "cell_type": "code",
   "execution_count": null,
   "id": "76547a6e-ce1c-48a6-9a3c-2b0e656bf624",
   "metadata": {},
   "outputs": [],
   "source": [
    "plot_hidden_states_distribution(hidden_states_mem, \"Distribution of Hidden States - Memory\").show()"
   ]
  },
  {
   "cell_type": "code",
   "execution_count": null,
   "id": "8f9fb2fd-10f9-45b1-950f-3aeb0780b76a",
   "metadata": {},
   "outputs": [],
   "source": [
    "plot_hidden_states_heatmap_box_combined(hidden_states_mem, \"Hidden States - Memory\").show()"
   ]
  },
  {
   "cell_type": "markdown",
   "id": "3fea92ab-bae0-48a6-a7fe-4045b0137495",
   "metadata": {},
   "source": [
    "##### Episode 2\n",
    "###### Grouped by Timestep"
   ]
  },
  {
   "cell_type": "code",
   "execution_count": null,
   "id": "e643d2cb-42e2-489f-ab2c-0d89dc446eb2",
   "metadata": {},
   "outputs": [],
   "source": [
    "plot_hidden_states_slider(hidden_states_mem2, \"timestep\").show()"
   ]
  },
  {
   "cell_type": "markdown",
   "id": "7066881b-4a25-4bbe-9036-90eb753ce537",
   "metadata": {},
   "source": [
    "###### Grouped by Layer"
   ]
  },
  {
   "cell_type": "code",
   "execution_count": null,
   "id": "1d92928d-b394-4aba-85b9-d1bcd544b3e8",
   "metadata": {},
   "outputs": [],
   "source": [
    "plot_hidden_states_slider(hidden_states_mem2, \"layer\").show()"
   ]
  },
  {
   "cell_type": "markdown",
   "id": "497c869e-5bc4-47a9-bbe5-543b6db31cd3",
   "metadata": {},
   "source": [
    "###### Value Distribution"
   ]
  },
  {
   "cell_type": "code",
   "execution_count": null,
   "id": "11f08f5d-ac5f-4f46-a5d5-cede0638b47c",
   "metadata": {},
   "outputs": [],
   "source": [
    "plot_hidden_states_distribution(hidden_states_mem2, \"Distribution of Hidden States - Memory\")"
   ]
  },
  {
   "cell_type": "code",
   "execution_count": null,
   "id": "d73e94bc-1565-4aa9-b34e-fab702c682db",
   "metadata": {},
   "outputs": [],
   "source": [
    "plot_hidden_states_heatmap_box_combined(hidden_states_mem2, \"Hidden States - Memory\").show()"
   ]
  },
  {
   "cell_type": "markdown",
   "id": "657f78ca-c173-4e49-ad93-f691d5d9cfe2",
   "metadata": {},
   "source": [
    "##### Episode 3\n",
    "###### Grouped by Timestep"
   ]
  },
  {
   "cell_type": "code",
   "execution_count": null,
   "id": "1f7327cb-d5fb-4f2f-b02d-eb0529d62baa",
   "metadata": {},
   "outputs": [],
   "source": [
    "plot_hidden_states_slider(hidden_states_mem3, \"timestep\").show()"
   ]
  },
  {
   "cell_type": "markdown",
   "id": "087386f8-70fd-4a5a-a760-0dde1f732355",
   "metadata": {},
   "source": [
    "###### Grouped by Layer"
   ]
  },
  {
   "cell_type": "code",
   "execution_count": null,
   "id": "c9b80115-1190-4870-84cc-f43982ab83ba",
   "metadata": {},
   "outputs": [],
   "source": [
    "plot_hidden_states_slider(hidden_states_mem3, \"layer\").show()"
   ]
  },
  {
   "cell_type": "markdown",
   "id": "2592bb58-95ec-4932-8941-04451fe98521",
   "metadata": {},
   "source": [
    "###### Value Distribution"
   ]
  },
  {
   "cell_type": "code",
   "execution_count": null,
   "id": "b66add9f-4fe8-4ce2-806a-46dd87baacec",
   "metadata": {},
   "outputs": [],
   "source": [
    "plot_hidden_states_distribution(hidden_states_mem3, \"Distribution of Hidden States - Memory\")"
   ]
  },
  {
   "cell_type": "code",
   "execution_count": null,
   "id": "9eb26315-005d-476d-b29d-19aae0325493",
   "metadata": {},
   "outputs": [],
   "source": [
    "plot_hidden_states_heatmap_box_combined(hidden_states_mem3, \"Hidden States - Memory\").show()"
   ]
  },
  {
   "cell_type": "markdown",
   "id": "ac98789f-a2b6-4492-8a44-faea0880100c",
   "metadata": {},
   "source": [
    "#### Continuous Recognition Environment\n",
    "##### Episode 1\n",
    "###### Grouped by Timestep"
   ]
  },
  {
   "cell_type": "code",
   "execution_count": null,
   "id": "11bfd3d2-ec14-40dd-a03e-00d9b7f23f7d",
   "metadata": {},
   "outputs": [],
   "source": [
    "plot_hidden_states_slider(hidden_states_psy, \"timestep\").show()"
   ]
  },
  {
   "cell_type": "markdown",
   "id": "d27ba9f1-0854-4119-aaca-2b2c49f40218",
   "metadata": {},
   "source": [
    "###### Grouped by Layer"
   ]
  },
  {
   "cell_type": "code",
   "execution_count": null,
   "id": "437bff7e-f645-40d6-9808-d259682a7940",
   "metadata": {},
   "outputs": [],
   "source": [
    "plot_hidden_states_slider(hidden_states_psy, \"layer\").show()"
   ]
  },
  {
   "cell_type": "markdown",
   "id": "9f584803-7b18-4b00-a81f-8b39b801cd9d",
   "metadata": {},
   "source": [
    "###### Value Distribution"
   ]
  },
  {
   "cell_type": "code",
   "execution_count": null,
   "id": "9f5db14f-0a08-4216-a23a-228554463435",
   "metadata": {},
   "outputs": [],
   "source": [
    "plot_hidden_states_distribution(hidden_states_psy, \"Distribution of Hidden States - Continuous Recognition\")"
   ]
  },
  {
   "cell_type": "code",
   "execution_count": null,
   "id": "4d928a34-bacb-438b-842d-06b655f84bed",
   "metadata": {},
   "outputs": [],
   "source": [
    "plot_hidden_states_heatmap_box_combined(hidden_states_psy, \"Hidden States - Continuous Recognition\").show()"
   ]
  },
  {
   "cell_type": "markdown",
   "id": "c383c40c-4070-496b-81c2-8d90516144c6",
   "metadata": {},
   "source": [
    "##### Episode 2\n",
    "###### Grouped by Timestep"
   ]
  },
  {
   "cell_type": "code",
   "execution_count": null,
   "id": "d9b39edf-779c-4be4-81eb-4add65ef372a",
   "metadata": {},
   "outputs": [],
   "source": [
    "plot_hidden_states_slider(hidden_states_psy2, \"timestep\").show()"
   ]
  },
  {
   "cell_type": "markdown",
   "id": "08c3f7b4-45ef-40a1-a1b3-7d919e2745a4",
   "metadata": {},
   "source": [
    "###### Grouped by Layer"
   ]
  },
  {
   "cell_type": "code",
   "execution_count": null,
   "id": "c62bbe01-5078-4732-969e-b0332826727a",
   "metadata": {},
   "outputs": [],
   "source": [
    "plot_hidden_states_slider(hidden_states_psy2, \"layer\").show()"
   ]
  },
  {
   "cell_type": "markdown",
   "id": "092d79ce-c65a-4f0f-92f8-40c3fd027737",
   "metadata": {},
   "source": [
    "###### Value Distribution"
   ]
  },
  {
   "cell_type": "code",
   "execution_count": null,
   "id": "1079a599-cbc7-445e-8687-fb9b90bb5c04",
   "metadata": {},
   "outputs": [],
   "source": [
    "plot_hidden_states_distribution(hidden_states_psy2, \"Distribution of Hidden States - Continuous Recognition\")"
   ]
  },
  {
   "cell_type": "code",
   "execution_count": null,
   "id": "b25991e9-ec0f-4050-a88d-baecb3acf8a3",
   "metadata": {},
   "outputs": [],
   "source": [
    "plot_hidden_states_heatmap_box_combined(hidden_states_psy2, \"Hidden States - Continuous Recognition\").show()"
   ]
  },
  {
   "cell_type": "markdown",
   "id": "97bfb17a-e67d-4a7d-a022-22e608c940f1",
   "metadata": {},
   "source": [
    "##### Episode 3\n",
    "###### Grouped by Timestep"
   ]
  },
  {
   "cell_type": "code",
   "execution_count": null,
   "id": "a426376d-f3d5-4d73-8ff0-b83403837ced",
   "metadata": {},
   "outputs": [],
   "source": [
    "plot_hidden_states_slider(hidden_states_psy2, \"timestep\").show()"
   ]
  },
  {
   "cell_type": "markdown",
   "id": "3ea6b8c1-76fb-45d8-a104-fd615f0dbbc2",
   "metadata": {},
   "source": [
    "###### Grouped by Layer"
   ]
  },
  {
   "cell_type": "code",
   "execution_count": null,
   "id": "e4086e74-b114-4f2e-99d9-1c10865a0c8b",
   "metadata": {},
   "outputs": [],
   "source": [
    "plot_hidden_states_slider(hidden_states_psy2, \"layer\").show()"
   ]
  },
  {
   "cell_type": "markdown",
   "id": "8d4cbdbb-a46a-4abb-ae83-311185a4d631",
   "metadata": {},
   "source": [
    "###### Value Distribution"
   ]
  },
  {
   "cell_type": "code",
   "execution_count": null,
   "id": "73112efe-46e3-4fb8-80bc-5c880fb43dfd",
   "metadata": {},
   "outputs": [],
   "source": [
    "plot_hidden_states_distribution(hidden_states_psy2, \"Distribution of Hidden States - Continuous Recognition\")"
   ]
  },
  {
   "cell_type": "code",
   "execution_count": null,
   "id": "2451a589-b805-4f8e-b662-89d9ec42c2f5",
   "metadata": {},
   "outputs": [],
   "source": [
    "plot_hidden_states_heatmap_box_combined(hidden_states_psy3, \"Hidden States - Continuous Recognition\").show()"
   ]
  },
  {
   "cell_type": "markdown",
   "id": "7a1978b0-d6cf-4b01-b0af-873a992d5dba",
   "metadata": {},
   "source": [
    "### Distance/ Similarity between Hidden States\n",
    "Visually inspecting the hidden states may not reveal much new insights, therefore we try to compare them in more detail by calculating various distance/ similarity measurements and checking if any pattern are present.\n",
    "<br>\n",
    "Similar to before, the similarites can be calculated between two groupings:\n",
    "- timesteps - checking how similar the same layer is between two consecutive timesteps\n",
    "- layers - checking how similar two layers are at the same timestep\n",
    "\n",
    "The comparison between timesteps is visualized as a simple line plot showing the distance/ similarity between the same layer at consecutive timesteps.<br>\n",
    "The comparison between layers is shown as a heatmap, as this allows to check the distance/ similarity between all possible layers at a glance."
   ]
  },
  {
   "cell_type": "code",
   "execution_count": null,
   "id": "0d8f5f92-0e8e-4d55-a9d6-fbc7299b5a8e",
   "metadata": {},
   "outputs": [],
   "source": [
    "def plot_distance(\n",
    "        data: Dict[int, List[float]],\n",
    "        dist_type: str,\n",
    "        title: str\n",
    ") -> go.Figure:\n",
    "    \"\"\"\n",
    "    Plot a line plot showing the cosine distance between the same layer at consecutive timesteps.\n",
    "\n",
    "    Args:\n",
    "        data (Dict[int, List[float]]): A dictionary where the keys are the layer numbers and the values are lists of floats representing the distance data for each layer at each step.\n",
    "        dist_type (str): The type of distance being plotted.\n",
    "        title (str): The title of the plot.\n",
    "\n",
    "    Returns:\n",
    "        go.Figure: A plotly figure object containing the line plot.\n",
    "    \"\"\"\n",
    "    fig = go.Figure()\n",
    "    \n",
    "    c_idx = 0\n",
    "    \n",
    "    for n_layer, y in data.items():\n",
    "        fig.add_trace(\n",
    "            go.Scatter(\n",
    "                name=f\"Layer {n_layer}\",\n",
    "                x=[i for i in range(1, len(y)+1)],\n",
    "                y=y,\n",
    "                mode=\"lines+markers\",\n",
    "                line=dict(\n",
    "                    color=f\"rgb{str(COLORS[int(n_layer)])}\"\n",
    "                )\n",
    "            )\n",
    "        )\n",
    "        c_idx += 1\n",
    "\n",
    "    for i in [1, 10]:\n",
    "        fig.update_traces(legendgroup='group1', selector=dict(name=f'Layer {i}'))\n",
    "    for i in [2, 15]:\n",
    "        fig.update_traces(legendgroup='group2', selector=dict(name=f'Layer {i}'))\n",
    "    for i in [3, 18]:\n",
    "        fig.update_traces(legendgroup='group3', selector=dict(name=f'Layer {i}'))\n",
    "    for i in [5]:\n",
    "        fig.update_traces(legendgroup='group4', selector=dict(name=f'Layer {i}'))\n",
    "    \n",
    "    fig.update_layout(\n",
    "        title=dict(\n",
    "            text=title,\n",
    "            font_size=FONT_SIZE_TITLE,\n",
    "            xanchor=\"center\",\n",
    "            x=0.5,\n",
    "            yanchor=\"top\",\n",
    "            y=0.989,\n",
    "        ),\n",
    "        xaxis=dict(\n",
    "            title=\"Interaction Step\",\n",
    "            tickfont_size=FONT_SIZE_TICKS,\n",
    "            title_font_size=FONT_SIZE_AXIS,\n",
    "        ),\n",
    "        yaxis=dict(\n",
    "            title=dist_type,\n",
    "            tickfont_size=FONT_SIZE_TICKS,\n",
    "            title_font_size=FONT_SIZE_AXIS,\n",
    "        ),\n",
    "        legend=dict(\n",
    "            orientation=\"h\",\n",
    "            yanchor=\"bottom\",\n",
    "            y=-0.25,\n",
    "            xanchor=\"center\",\n",
    "            x=0.5,\n",
    "            bgcolor=\"rgba(0,0,0,0)\",\n",
    "            font_size=FONT_SIZE_LEGEND\n",
    "        ),\n",
    "        height=700,\n",
    "        width=900,\n",
    "        margin=dict(\n",
    "            l=10,\n",
    "            r=20,\n",
    "            b=20,\n",
    "            t=40,\n",
    "            pad=10\n",
    "        ),\n",
    "    )\n",
    "\n",
    "    return fig"
   ]
  },
  {
   "cell_type": "code",
   "execution_count": null,
   "id": "28e03996-85d5-48db-acee-680d96ae7cf2",
   "metadata": {},
   "outputs": [],
   "source": [
    "def plot_distance_heatmap(\n",
    "        hidden_states: List[np.ndarray],\n",
    "        environment: str\n",
    ") -> go.Figure:\n",
    "    \"\"\"\n",
    "   Plot a heatmap of cosine similarity between hidden states of layer at the same timestep.\n",
    "\n",
    "    Args:\n",
    "        hidden_states (List[np.ndarray]): A list of 2D numpy arrays representing the hidden states.\n",
    "        environment (str): The name of the environment.\n",
    "\n",
    "    Returns:\n",
    "        go.Figure: A plotly figure object containing the heatmap.\n",
    "    \"\"\"\n",
    "\n",
    "    title = \"MiniGrid - Memory\" if \"Memory\" in environment else \"PsychLab - Continuous Recognition\"\n",
    "\n",
    "    fig = go.Figure()\n",
    "    \n",
    "    for step in range(len(hidden_states)):\n",
    "        data = np.zeros((18,18))\n",
    "        for i, hidden_i in enumerate(hidden_states[step]):\n",
    "            for j, hidden_j in enumerate(hidden_states[step]):\n",
    "                data[i,j] = cosine_similarity(hidden_i, hidden_j)\n",
    "    \n",
    "            \n",
    "        fig.add_trace(\n",
    "            go.Heatmap(\n",
    "                visible=False,\n",
    "                z=data,\n",
    "                zmin=0.,\n",
    "                zmax=1.,\n",
    "                x=[f\"Layer {i+1}\" for i in range(18)],\n",
    "                y=[f\"Layer {i+1}\" for i in range(18)],\n",
    "                colorscale='Inferno',\n",
    "                colorbar_tickfont_size=FONT_SIZE_LEGEND\n",
    "            )\n",
    "        )\n",
    "    \n",
    "    # Make 0th trace visible\n",
    "    fig.data[0].visible = True\n",
    "    \n",
    "    # Create and add slider\n",
    "    steps = []\n",
    "    for i in range(len(hidden_states)):\n",
    "        step = dict(\n",
    "            method=\"update\",\n",
    "            label=f\"Timestep {i+1}\",\n",
    "            args=[{\"visible\": [False] * len(fig.data)}],\n",
    "        )\n",
    "\n",
    "        step[\"args\"][0][\"visible\"][i] = True\n",
    "        steps.append(step)\n",
    "    \n",
    "    sliders = [dict(\n",
    "        active=0,\n",
    "        pad={\"t\": 50},\n",
    "        steps=steps\n",
    "    )]\n",
    "    \n",
    "    fig.update_layout(\n",
    "        sliders=sliders,\n",
    "        title=dict(\n",
    "            text=title,\n",
    "            font_size=FONT_SIZE_TITLE,\n",
    "            xanchor=\"center\",\n",
    "            x=0.5,\n",
    "            yanchor=\"top\",\n",
    "            y=0.989,\n",
    "        ),\n",
    "        xaxis=dict(\n",
    "            tickfont_size=FONT_SIZE_TICKS,\n",
    "            title_font_size=FONT_SIZE_AXIS,\n",
    "        ),\n",
    "        yaxis=dict(\n",
    "            ticksuffix=\"  \",\n",
    "            tickfont_size=FONT_SIZE_TICKS,\n",
    "            title_font_size=FONT_SIZE_AXIS,\n",
    "        ),\n",
    "        height=700,\n",
    "        width=900,\n",
    "        margin=dict(\n",
    "            l=10,\n",
    "            r=20,\n",
    "            b=20,\n",
    "            t=40,\n",
    "            pad=10\n",
    "        ),\n",
    "    )\n",
    "\n",
    "    return fig"
   ]
  },
  {
   "cell_type": "markdown",
   "id": "dccca55e-5f3c-46f5-b9f3-32cf89e99649",
   "metadata": {},
   "source": [
    "#### Memory Environment\n",
    "##### Episode 1"
   ]
  },
  {
   "cell_type": "code",
   "execution_count": null,
   "id": "12855ba9-688a-4474-a129-fb2c3bc1311a",
   "metadata": {},
   "outputs": [],
   "source": [
    "sim_line_mem = plot_distance(cosine_distances_mem, \"Cosine Similarity\", \"MiniGrid - Memory\")\n",
    "\n",
    "sim_line_mem.show()"
   ]
  },
  {
   "cell_type": "code",
   "execution_count": null,
   "id": "b1cb8f2d-6dc1-43ca-a0a1-49112131ec2a",
   "metadata": {},
   "outputs": [],
   "source": [
    "sim_heat_mem = plot_distance_heatmap(hidden_states_mem, \"Memory\")\n",
    "\n",
    "sim_heat_mem.show()"
   ]
  },
  {
   "cell_type": "markdown",
   "id": "ad2e06f1-ee16-4c20-8629-52aa227a0d08",
   "metadata": {},
   "source": [
    "##### Episode 2"
   ]
  },
  {
   "cell_type": "code",
   "execution_count": null,
   "id": "b0c73ab9-d1b1-4271-be74-fd38ac2de521",
   "metadata": {},
   "outputs": [],
   "source": [
    "plot_distance(cosine_distances_mem2, \"Cosine Similarity\", \"Cosine Similarity - Memory\").show()"
   ]
  },
  {
   "cell_type": "code",
   "execution_count": null,
   "id": "ae68d6a4-2c1a-44c0-aca4-16c0eda57677",
   "metadata": {},
   "outputs": [],
   "source": [
    "plot_distance_heatmap(hidden_states_mem2, \"Memory\").show()"
   ]
  },
  {
   "cell_type": "markdown",
   "id": "3254526a-11ec-47f9-b742-60d4ecfd4451",
   "metadata": {},
   "source": [
    "##### Episode 3"
   ]
  },
  {
   "cell_type": "code",
   "execution_count": null,
   "id": "61856c6a-5dba-4e96-ab9f-96e833b03fb1",
   "metadata": {},
   "outputs": [],
   "source": [
    "plot_distance(cosine_distances_mem3, \"Cosine Similarity\", \"Cosine Similarity - Memory\").show()"
   ]
  },
  {
   "cell_type": "code",
   "execution_count": null,
   "id": "754c8321-eb7e-49a6-8fc9-e1e51471ef49",
   "metadata": {},
   "outputs": [],
   "source": [
    "plot_distance_heatmap(hidden_states_mem3, \"Memory\").show()"
   ]
  },
  {
   "cell_type": "markdown",
   "id": "d4a2a439-4095-465a-9acb-469ed16cf294",
   "metadata": {},
   "source": [
    "#### Continuous Recognition Environment\n",
    "##### Episode 1"
   ]
  },
  {
   "cell_type": "code",
   "execution_count": null,
   "id": "0e988097-e81b-4697-b14e-1281f25d75d7",
   "metadata": {},
   "outputs": [],
   "source": [
    "plot_distance(cosine_distances_psy, \"Cosine Similarity\", \"Cosine Similarity - Continuous Recognition\").show()"
   ]
  },
  {
   "cell_type": "code",
   "execution_count": null,
   "id": "4bc525fa-160e-4672-a175-a83ffd2b69f6",
   "metadata": {},
   "outputs": [],
   "source": [
    "plot_distance_heatmap(hidden_states_psy, \"Continuous Recognition\").show()"
   ]
  },
  {
   "cell_type": "code",
   "execution_count": null,
   "id": "cd9aa8bc-8dc2-4be6-8088-a471df2f4ef5",
   "metadata": {},
   "outputs": [],
   "source": [
    "sim_line_psy = plot_distance(cosine_distances_psy3, \"Cosine Similarity\", \"PsychLab - Continuous Recognition\")\n",
    "\n",
    "sim_line_psy.show()"
   ]
  },
  {
   "cell_type": "markdown",
   "id": "e32c1407-d3ec-461a-ab83-5368660ca4ee",
   "metadata": {},
   "source": [
    "##### Episode 2"
   ]
  },
  {
   "cell_type": "code",
   "execution_count": null,
   "id": "658348a1-008e-459e-ad0f-518d1ebc1a52",
   "metadata": {},
   "outputs": [],
   "source": [
    "plot_distance(cosine_distances_psy2, \"Cosine Similarity\", \"Cosine Similarity - Continuous Recognition\").show()"
   ]
  },
  {
   "cell_type": "code",
   "execution_count": null,
   "id": "acab14a0-abbe-4dbf-80b7-faf5a9b106cc",
   "metadata": {},
   "outputs": [],
   "source": [
    "plot_distance_heatmap(hidden_states_psy2, \"Continuous Recognition\").show()"
   ]
  },
  {
   "cell_type": "markdown",
   "id": "1a7dc165-9e16-4bf6-ae4a-d1a1c529b07c",
   "metadata": {},
   "source": [
    "##### Episode 3"
   ]
  },
  {
   "cell_type": "code",
   "execution_count": null,
   "id": "0bd19025-dd9c-4592-af14-e80a4269c371",
   "metadata": {},
   "outputs": [],
   "source": [
    "plot_distance(cosine_distances_psy3, \"Cosine Similarity\", \"Cosine Similarity - Continuous Recognition\").show()"
   ]
  },
  {
   "cell_type": "code",
   "execution_count": null,
   "id": "f5eaebec-fe74-455c-8ee3-a2c32196578c",
   "metadata": {},
   "outputs": [],
   "source": [
    "plot_distance_heatmap(hidden_states_psy3, \"Continuous Recognition\").show()"
   ]
  },
  {
   "cell_type": "markdown",
   "id": "9ac62ea2-4267-4956-94e8-836432247317",
   "metadata": {},
   "source": [
    "### Dimensionality Reduction\n",
    "To further investiage how similar certain hidden states are, we apply tSNE and PCA and try to highlight further similarities between layers."
   ]
  },
  {
   "cell_type": "code",
   "execution_count": null,
   "id": "a57f1440-c2d4-4bc0-95a7-17841bb3b9d7",
   "metadata": {},
   "outputs": [],
   "source": [
    "def plot_dimensionality_reduction(\n",
    "        hidden_states: List[np.ndarray],\n",
    "        reduction_func: Callable,\n",
    "        title: str\n",
    ") -> go.Figure:\n",
    "    \"\"\"\n",
    "    Plot the dimensionality reduction of hidden states for each timestep.\n",
    "\n",
    "    Args:\n",
    "        hidden_states (List[np.ndarray]): A list of 2D numpy arrays representing the hidden states.\n",
    "        reduction_func (Callable): A function that performs the dimensionality reduction.\n",
    "        title (str): The title of the plot.\n",
    "\n",
    "    Returns:\n",
    "        go.Figure: A plotly figure object containing the dimensionality reduction plot.\n",
    "    \"\"\"\n",
    "    fig = go.Figure()\n",
    "    \n",
    "    x_min, x_max, y_min, y_max = 0, 0, 0, 0\n",
    "    for step in range(len(hidden_states)):\n",
    "        projections = reduction_func(hidden_states[step])\n",
    "        \n",
    "        x_min_ = int(round(np.min(projections[:,0])/5-.5, 0)*5)\n",
    "        x_max_ = int(round(np.max(projections[:,0])/5+.5, 0)*5)\n",
    "        y_min_ = int(round(np.min(projections[:,1])/5-.5, 0)*5)\n",
    "        y_max_ = int(round(np.max(projections[:,1])/5+.5, 0)*5)\n",
    "\n",
    "        if x_min_ < x_min:\n",
    "            x_min = x_min_\n",
    "        if x_max_ > x_max:\n",
    "            x_max = x_max_\n",
    "        if y_min_ < y_min:\n",
    "            y_min = y_min_\n",
    "        if y_max_ > y_max:\n",
    "            y_max = y_max_\n",
    "    \n",
    "        fig.add_trace(\n",
    "            go.Scatter(\n",
    "                x=projections[:,0],\n",
    "                y=projections[:,1],\n",
    "                mode=\"markers+text\",\n",
    "                marker=dict(\n",
    "                        size=13,\n",
    "                        color=RAINBOW_COLORS,\n",
    "                    ),\n",
    "                text=[f\"Layer {i}\" for i in range(1,len(projections)+1)],\n",
    "                textfont_size=14,\n",
    "                textposition=\"top center\",\n",
    "                visible=False\n",
    "            )\n",
    "        )\n",
    "    \n",
    "    # Make 0th trace visible\n",
    "    fig.data[0].visible = True\n",
    "    \n",
    "    # Create and add slider\n",
    "    steps = []\n",
    "    for i in range(len(hidden_states)):\n",
    "        step = dict(\n",
    "            method=\"update\",\n",
    "            label=f\"Timestep {i+1}\",\n",
    "            args=[{\"visible\": [False] * len(fig.data)}]\n",
    "        )\n",
    "\n",
    "        step[\"args\"][0][\"visible\"][i] = True \n",
    "\n",
    "        steps.append(step)\n",
    "    \n",
    "    sliders = [dict(\n",
    "        active=0,\n",
    "        pad={\"t\": 50},\n",
    "        steps=steps\n",
    "    )]\n",
    "\n",
    "    x_range = [x_min, x_max]\n",
    "    y_range = [y_min, y_max]\n",
    "    fig.update_xaxes(range=x_range)\n",
    "    fig.update_yaxes(range=y_range)\n",
    "    \n",
    "    fig.update_layout(\n",
    "        sliders=sliders,\n",
    "        title=dict(\n",
    "            text=title,\n",
    "            font_size=FONT_SIZE_TITLE,\n",
    "            xanchor=\"center\",\n",
    "            x=0.5,\n",
    "            yanchor=\"top\",\n",
    "            y=0.989,\n",
    "        ),\n",
    "        xaxis=dict(\n",
    "            tickfont_size=FONT_SIZE_TICKS,\n",
    "            title_font_size=FONT_SIZE_AXIS,\n",
    "        ),\n",
    "        yaxis=dict(\n",
    "            tickfont_size=FONT_SIZE_TICKS,\n",
    "            title_font_size=FONT_SIZE_AXIS,\n",
    "        ),\n",
    "        legend=dict(\n",
    "            orientation=\"h\",\n",
    "            yanchor=\"bottom\",\n",
    "            y=-0.15,\n",
    "            xanchor=\"center\",\n",
    "            x=0.5,\n",
    "            bgcolor=\"rgba(0,0,0,0)\",\n",
    "            traceorder=\"normal\",\n",
    "            font_size=FONT_SIZE_LEGEND\n",
    "        ),\n",
    "        height=700,\n",
    "        width=900,\n",
    "        margin=dict(\n",
    "            l=10,\n",
    "            r=40,\n",
    "            b=20,\n",
    "            t=40,\n",
    "            pad=10\n",
    "        ),\n",
    "    )\n",
    "    return fig"
   ]
  },
  {
   "cell_type": "code",
   "execution_count": null,
   "id": "5603a2f9-48c0-4a13-aceb-33db1b56e7b0",
   "metadata": {},
   "outputs": [],
   "source": [
    "tsne = TSNE(n_components=2, random_state=42, perplexity=5)\n",
    "pca = PCA(n_components=2)"
   ]
  },
  {
   "cell_type": "markdown",
   "id": "a9b95fc0-40cd-4155-9837-d5fd9e320e3d",
   "metadata": {},
   "source": [
    "#### Memory Environment\n",
    "##### Episode 1"
   ]
  },
  {
   "cell_type": "code",
   "execution_count": null,
   "id": "a8b22da9-726e-4557-89b6-a2684f3a203c",
   "metadata": {},
   "outputs": [],
   "source": [
    "plot_dimensionality_reduction(hidden_states_mem, tsne.fit_transform, \"tSNE - Memory\").show()"
   ]
  },
  {
   "cell_type": "code",
   "execution_count": null,
   "id": "55d6042f-75af-4b8e-8052-0cc08d5cbc26",
   "metadata": {},
   "outputs": [],
   "source": [
    "plot_dimensionality_reduction(hidden_states_mem, pca.fit_transform, \"PCA - Memory\").show()"
   ]
  },
  {
   "cell_type": "markdown",
   "id": "0277bef5-693d-4c75-9614-e2f78a0186b4",
   "metadata": {},
   "source": [
    "##### Episode 2"
   ]
  },
  {
   "cell_type": "code",
   "execution_count": null,
   "id": "6bfc682b-98b1-49c8-89ba-a88835755069",
   "metadata": {},
   "outputs": [],
   "source": [
    "plot_dimensionality_reduction(hidden_states_mem2, tsne.fit_transform, \"tSNE - Memory\").show()"
   ]
  },
  {
   "cell_type": "code",
   "execution_count": null,
   "id": "f4431fff-076a-4d47-b551-6c4b8b03d155",
   "metadata": {},
   "outputs": [],
   "source": [
    "plot_dimensionality_reduction(hidden_states_mem2, pca.fit_transform, \"PCA - Memory\").show()"
   ]
  },
  {
   "cell_type": "markdown",
   "id": "b51e0a07-1c5f-45dc-b539-01582d1c5a65",
   "metadata": {},
   "source": [
    "##### Episode 3"
   ]
  },
  {
   "cell_type": "code",
   "execution_count": null,
   "id": "f38ad851-7e45-46cc-b1f4-2baff439c241",
   "metadata": {},
   "outputs": [],
   "source": [
    "plot_dimensionality_reduction(hidden_states_mem3, tsne.fit_transform, \"tSNE - Memory\").show()"
   ]
  },
  {
   "cell_type": "code",
   "execution_count": null,
   "id": "cf9b814f-b933-4d58-bf35-76a43a58c38d",
   "metadata": {},
   "outputs": [],
   "source": [
    "plot_dimensionality_reduction(hidden_states_mem3, pca.fit_transform, \"PCA - Memory\").show()"
   ]
  },
  {
   "cell_type": "markdown",
   "id": "0b77b0e1-33d7-42f3-a2d7-8d9a6e377e4d",
   "metadata": {},
   "source": [
    "#### Continuous Recognition Environment\n",
    "##### Episode 1"
   ]
  },
  {
   "cell_type": "code",
   "execution_count": null,
   "id": "71506118-3055-4969-a66f-a7344d48e7fe",
   "metadata": {},
   "outputs": [],
   "source": [
    "plot_dimensionality_reduction(hidden_states_psy, tsne.fit_transform, \"tSNE - Continuous Recognition\").show()"
   ]
  },
  {
   "cell_type": "code",
   "execution_count": null,
   "id": "5aacad45-bfd9-4a10-89bc-e5c05fa9496c",
   "metadata": {},
   "outputs": [],
   "source": [
    "plot_dimensionality_reduction(hidden_states_psy, pca.fit_transform, \"PCA - Continuous Recognition\").show()"
   ]
  },
  {
   "cell_type": "markdown",
   "id": "9b5d8968-299a-45e8-aadd-9c49aab83449",
   "metadata": {},
   "source": [
    "##### Episode 2"
   ]
  },
  {
   "cell_type": "code",
   "execution_count": null,
   "id": "4eb8c51a-a12d-43ed-bc6a-0c3671331b33",
   "metadata": {},
   "outputs": [],
   "source": [
    "plot_dimensionality_reduction(hidden_states_psy2, tsne.fit_transform, \"tSNE - Continuous Recognition\").show()"
   ]
  },
  {
   "cell_type": "code",
   "execution_count": null,
   "id": "e134b475-8de6-405b-8f1f-8c2c92c67039",
   "metadata": {},
   "outputs": [],
   "source": [
    "plot_dimensionality_reduction(hidden_states_psy2, pca.fit_transform, \"PCA - Continuous Recognition\").show()"
   ]
  },
  {
   "cell_type": "markdown",
   "id": "48f934ec-ccff-4219-abc0-bc1b1c8798fc",
   "metadata": {},
   "source": [
    "##### Episode 3"
   ]
  },
  {
   "cell_type": "code",
   "execution_count": null,
   "id": "7c69c643-4856-4402-9673-6198bbbddc8f",
   "metadata": {},
   "outputs": [],
   "source": [
    "plot_dimensionality_reduction(hidden_states_psy3, tsne.fit_transform, \"tSNE - Continuous Recognition\").show()"
   ]
  },
  {
   "cell_type": "code",
   "execution_count": null,
   "id": "512cac81-26fb-469f-81d3-54c9ef1a1545",
   "metadata": {},
   "outputs": [],
   "source": [
    "plot_dimensionality_reduction(hidden_states_psy3, pca.fit_transform, \"PCA - Continuous Recognition\").show()"
   ]
  }
 ],
 "metadata": {
  "kernelspec": {
   "display_name": "Python 3 (ipykernel)",
   "language": "python",
   "name": "python3"
  },
  "language_info": {
   "codemirror_mode": {
    "name": "ipython",
    "version": 3
   },
   "file_extension": ".py",
   "mimetype": "text/x-python",
   "name": "python",
   "nbconvert_exporter": "python",
   "pygments_lexer": "ipython3",
   "version": "3.8.12"
  }
 },
 "nbformat": 4,
 "nbformat_minor": 5
}
